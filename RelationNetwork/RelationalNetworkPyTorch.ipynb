{
 "cells": [
  {
   "cell_type": "code",
   "execution_count": 1,
   "metadata": {
    "_uuid": "43b88cafca9ae9442db11854a7978442bb072079"
   },
   "outputs": [],
   "source": [
    "import torch as t\n",
    "import numpy as np\n",
    "import h5py\n",
    "import pandas as pd\n",
    "import matplotlib.pyplot as plt\n",
    "from time import time\n",
    "import math\n",
    "from IPython.display import clear_output\n",
    "from torch.autograd import Variable\n",
    "import json\n",
    "from sklearn.utils import shuffle"
   ]
  },
  {
   "cell_type": "code",
   "execution_count": 2,
   "metadata": {
    "_uuid": "cdaa83809d8c69a5d745a3ee0c135fcdf4775c8c"
   },
   "outputs": [],
   "source": [
    "def plotRandom(train_index, train_images, train_data, lstm_in, nn_out, out_dict):\n",
    "    \n",
    "    \"\"\"\n",
    "    Plot a random element from the dataset.\n",
    "\n",
    "    The function selects a random element from the given dataset and prints \n",
    "    all available information.\n",
    "\n",
    "    Parameters\n",
    "    ----------\n",
    "    train_images : h5py\n",
    "        image dataset\n",
    "    train_data : pandas\n",
    "        train dataset\n",
    "    lstm_in : numpy.ndarray\n",
    "        feature data used for input to NN\n",
    "    nn_out : numpy.ndarray\n",
    "        targets for the NN output\n",
    "    out_dict : dict\n",
    "        dictionary encoding the targets from index to word\n",
    "        \n",
    "\n",
    "    Returns\n",
    "    -------\n",
    "    int\n",
    "        the index of the random element\n",
    "\n",
    "    \"\"\"\n",
    "\n",
    "    idx = np.random.randint(0, len(train_images))\n",
    "    \n",
    "    print(\"=> ORIGINAL\")\n",
    "    print(train_data[\"index\"].values[idx])\n",
    "    print(train_data[\"question\"].values[idx])\n",
    "    print(train_data[\"encoding\"].values[idx])\n",
    "    print(train_data[\"answer\"].values[idx])\n",
    "    print(train_data[\"type\"].values[idx])\n",
    "    \n",
    "    print(\"\\n=> CONVERTED\")\n",
    "    print(lstm_in[idx])\n",
    "    print(nn_out[idx])\n",
    "    print(nn_out[idx], out_dict[nn_out[idx]])\n",
    "    plt.imshow(train_images[train_index[idx]] / 255)\n",
    "    plt.show()\n",
    "    \n",
    "    return idx"
   ]
  },
  {
   "cell_type": "code",
   "execution_count": 3,
   "metadata": {
    "_uuid": "62b3fbbc4f0f47a71fb1bfa2c9730bde95c4d758"
   },
   "outputs": [],
   "source": [
    "def loadData(file_name):\n",
    "    \n",
    "    \"\"\"\n",
    "    Load the data by a given file name. \n",
    "\n",
    "    Data comes in pairs of CSV and H5PY files. For the training of the\n",
    "    model, we'll need both files per set.\n",
    "\n",
    "    Parameters\n",
    "    ----------\n",
    "    file_name : string\n",
    "        the name of the data pair to load\n",
    "        \n",
    "\n",
    "    Returns\n",
    "    -------\n",
    "    h5py array\n",
    "        the h5py array to prevent loading all the images to RAM\n",
    "    pandas dataframe\n",
    "        the training data for each image (more information here: https://www.kaggle.com/gruberpatrick/sortofclevr)\n",
    "\n",
    "    \"\"\"\n",
    "    \n",
    "    # load the data;\n",
    "    train_images = h5py.File(\"./sort-of-clevr/\"+file_name+\".h5\")[file_name]\n",
    "    train_data = pd.read_csv(\"./sort-of-clevr/\"+file_name+\".csv\")\n",
    "\n",
    "    # show the shapes;\n",
    "    print(train_images.shape, train_data[\"index\"].values.shape)\n",
    "    \n",
    "    return train_images, train_data"
   ]
  },
  {
   "cell_type": "code",
   "execution_count": 4,
   "metadata": {
    "_uuid": "30ca8d29983babf3ab5a99edb81242a2d7cc8eed"
   },
   "outputs": [],
   "source": [
    "def loadQuestionEncoding(train_images, train_data):\n",
    "    \n",
    "    \"\"\"\n",
    "    Load JSON encoded catgorical question encoding.\n",
    "    \n",
    "    Since the categorical encoding is JSON encoded, we'll have to\n",
    "    decode the information before we can use it.\n",
    "\n",
    "    Parameters\n",
    "    ----------\n",
    "    file_name : string\n",
    "        the name of the data pair to load\n",
    "        \n",
    "\n",
    "    Returns\n",
    "    -------\n",
    "    numpy.ndarray\n",
    "        the simulated outputs of the LSTM\n",
    "    numpy.ndarray\n",
    "        each image is assigned whether it is used as a relational or non-relational example\n",
    "\n",
    "    \"\"\"\n",
    "    \n",
    "    print(\"Loading question encoding.\")\n",
    "    \n",
    "    # load the encoding;\n",
    "    count = 0\n",
    "    lstm_in = []\n",
    "    train_index = []\n",
    "    for it in range(len(train_data[\"encoding\"].values)): \n",
    "        enc = json.loads(train_data[\"encoding\"].values[it])\n",
    "        #if enc[8] == 1: count += 1\n",
    "        #if count >= 22000: continue\n",
    "        lstm_in.append(enc)\n",
    "        train_index.append(it)\n",
    "    \n",
    "    return np.array(train_index), np.array(lstm_in)"
   ]
  },
  {
   "cell_type": "code",
   "execution_count": 5,
   "metadata": {
    "_uuid": "96c51140cdda68a04d9d9519823aead9b1120cfe"
   },
   "outputs": [
    {
     "name": "stdout",
     "output_type": "stream",
     "text": [
      "(70000, 128, 128, 3) (70000,)\n",
      "Loading question encoding.\n",
      "(70000, 10)\n"
     ]
    }
   ],
   "source": [
    "train_images, train_data = loadData(\"data_train\")\n",
    "train_index, lstm_in = loadQuestionEncoding(train_images, train_data)\n",
    "print(lstm_in.shape)"
   ]
  },
  {
   "cell_type": "code",
   "execution_count": 6,
   "metadata": {
    "_uuid": "b8b9ec795b08239d063192afb84970589cca5ddf"
   },
   "outputs": [
    {
     "name": "stdout",
     "output_type": "stream",
     "text": [
      "(10000, 128, 128, 3) (10000,)\n",
      "Loading question encoding.\n",
      "(10000, 10)\n"
     ]
    }
   ],
   "source": [
    "val_train_images, val_train_data = loadData(\"data_val\")\n",
    "_, val_lstm_in = loadQuestionEncoding(val_train_images, val_train_data)\n",
    "print(val_lstm_in.shape)"
   ]
  },
  {
   "cell_type": "code",
   "execution_count": 7,
   "metadata": {
    "_uuid": "f7ce9be7731054a63580f0d726c1ccdf60e6c0d9"
   },
   "outputs": [],
   "source": [
    "def getOutputs(train_data, lstm_in, nrout_tokenizer=None):\n",
    "    \n",
    "    \"\"\"\n",
    "    Encode the targets.\n",
    "\n",
    "    We'll use a categorical representation to train the network. For this\n",
    "    we need to take the current word answers, assign them indexes and\n",
    "    encode the output. Previously we assigned the image a representation,\n",
    "    which means that a question input is either relational or non-relational.\n",
    "    Here we also load the correct relational or non-relational answer.\n",
    "\n",
    "    Parameters\n",
    "    ----------\n",
    "    train_data : pandas\n",
    "        train dataset\n",
    "    lstm_in : numpy.ndarray\n",
    "        feature data used for input to NN\n",
    "    dist_encoding : numpy.ndarray\n",
    "        the assignment of the dataset (relational or non-relational)\n",
    "    nrout_tokenizer : dict\n",
    "        the word encoding (given that we want to use the same encoding for validation and test)\n",
    "        if not given, a new dict is created\n",
    "        \n",
    "\n",
    "    Returns\n",
    "    -------\n",
    "    numpy.ndarray\n",
    "        the categorically encoded targets\n",
    "    dict\n",
    "        index to word dictionary\n",
    "    dict\n",
    "        word to index dictionary\n",
    "\n",
    "    \"\"\"\n",
    "    \n",
    "    nn_full = []\n",
    "    for it in range(lstm_in.shape[0]): \n",
    "        nn_full.append(train_data[\"answer\"][it])\n",
    "    \n",
    "    # combine the data and tokenize the input;\n",
    "    highest = 16\n",
    "    if not nrout_tokenizer:\n",
    "        \n",
    "        word_index = {}\n",
    "        index_word = {}\n",
    "        idx = 0\n",
    "        for it in range(len(nn_full)):\n",
    "            if nn_full[it] not in word_index:\n",
    "                word_index[nn_full[it]] = idx\n",
    "                index_word[idx] = nn_full[it]\n",
    "                idx += 1\n",
    "                \n",
    "    else:\n",
    "        \n",
    "        word_index = nrout_tokenizer\n",
    "        index_word = {}\n",
    "        for it in word_index:\n",
    "            index_word[word_index[it]] = it\n",
    "        \n",
    "    nn_out = []\n",
    "    for it in range(len(nn_full)):\n",
    "        nn_out.append(word_index[nn_full[it]])\n",
    "    nn_out = np.array(nn_out)\n",
    "        \n",
    "    return nn_out, index_word, word_index"
   ]
  },
  {
   "cell_type": "code",
   "execution_count": 8,
   "metadata": {
    "_uuid": "64dce33162e59b9eda526223d3e2b6e17066f2ea"
   },
   "outputs": [
    {
     "name": "stdout",
     "output_type": "stream",
     "text": [
      "(70000,)\n",
      "{0: 'right', 1: 'blue', 2: 'circle', 3: 'left', 4: 'bottom', 5: 'yellow', 6: 'square', 7: 'green', 8: 'red', 9: 'top', 10: 'gray'}\n"
     ]
    }
   ],
   "source": [
    "nn_out, train_dict, nrout_tokenizer = getOutputs(train_data, lstm_in)\n",
    "print(nn_out.shape)\n",
    "print(train_dict)"
   ]
  },
  {
   "cell_type": "code",
   "execution_count": 9,
   "metadata": {
    "_uuid": "be1a12dd01d0186b3f0704268554d1e4664c4b3e"
   },
   "outputs": [
    {
     "name": "stdout",
     "output_type": "stream",
     "text": [
      "(10000,)\n",
      "{0: 'right', 1: 'blue', 2: 'circle', 3: 'left', 4: 'bottom', 5: 'yellow', 6: 'square', 7: 'green', 8: 'red', 9: 'top', 10: 'gray'}\n"
     ]
    }
   ],
   "source": [
    "val_nn_out, val_dict, nrout_tokenizer = getOutputs(val_train_data, val_lstm_in, nrout_tokenizer)\n",
    "print(val_nn_out.shape)\n",
    "print(val_dict)"
   ]
  },
  {
   "cell_type": "code",
   "execution_count": 10,
   "metadata": {
    "_uuid": "952ceb6394cd03470b0c18e3efdd15267541d2c7",
    "scrolled": false
   },
   "outputs": [
    {
     "name": "stdout",
     "output_type": "stream",
     "text": [
      "=> ORIGINAL\n",
      "49815\n",
      "What is the color of the object that is closest to the blue object?\n",
      "[0, 0, 0, 1, 0, 0, 0, 0, 0, 1]\n",
      "gray\n",
      "0\n",
      "\n",
      "=> CONVERTED\n",
      "[0 0 0 1 0 0 0 0 0 1]\n",
      "10\n",
      "10 gray\n"
     ]
    },
    {
     "data": {
      "image/png": "[encoded data removed]",
      "text/plain": [
       "<Figure size 432x288 with 1 Axes>"
      ]
     },
     "metadata": {
      "needs_background": "light"
     },
     "output_type": "display_data"
    },
    {
     "data": {
      "text/plain": [
       "49815"
      ]
     },
     "execution_count": 10,
     "metadata": {},
     "output_type": "execute_result"
    }
   ],
   "source": [
    "plotRandom(train_index, train_images, train_data, lstm_in, nn_out, val_dict)"
   ]
  },
  {
   "cell_type": "markdown",
   "metadata": {
    "_uuid": "c6950a905c817486750cab67f0d1e0d24352517f"
   },
   "source": [
    "# Relation Network"
   ]
  },
  {
   "cell_type": "code",
   "execution_count": 47,
   "metadata": {
    "_uuid": "0e88e82ea5271ce159d91b6a00d4eac867b5dd64"
   },
   "outputs": [],
   "source": [
    "class RelationNetwork(t.nn.Module):\n",
    "    \n",
    "    # -----------------------------------------------------------\n",
    "    def __init__(self, out_size=16, batch_size=128, img_size=5):\n",
    "        \n",
    "        self._step = 0\n",
    "        \n",
    "        super(RelationNetwork, self).__init__()\n",
    "        self._conv1 = t.nn.Conv2d(3, 24, 3, stride=2, padding=1).cuda()\n",
    "        self._conv2 = t.nn.Conv2d(24, 24, 3, stride=2, padding=1).cuda()\n",
    "        self._conv3 = t.nn.Conv2d(24, 24, 3, stride=2, padding=1).cuda()\n",
    "        self._conv4 = t.nn.Conv2d(24, 24, 3, stride=2, padding=1).cuda()\n",
    "        self._conv5 = t.nn.Conv2d(24, 24, 3, stride=2, padding=2).cuda()\n",
    "        self._batch_norm1 = t.nn.BatchNorm2d(24).cuda()\n",
    "        self._batch_norm2 = t.nn.BatchNorm2d(24).cuda()\n",
    "        self._batch_norm3 = t.nn.BatchNorm2d(24).cuda()\n",
    "        self._batch_norm4 = t.nn.BatchNorm2d(24).cuda()\n",
    "        self._batch_norm5 = t.nn.BatchNorm2d(24).cuda()\n",
    "        self._g1 = t.nn.Linear(62, 256).cuda()\n",
    "        self._g2 = t.nn.Linear(256, 256).cuda()\n",
    "        self._g3 = t.nn.Linear(256, 256).cuda()\n",
    "        self._g4 = t.nn.Linear(256, 256).cuda()\n",
    "        self._g5 = t.nn.Linear(256, 256).cuda()\n",
    "        self._g6 = t.nn.Linear(256, 256).cuda()\n",
    "        self._relu = t.nn.ReLU().cuda()\n",
    "        self._dropout = t.nn.Dropout(.5).cuda()\n",
    "        self._f1 = t.nn.Linear(256, 256).cuda()\n",
    "        self._f2 = t.nn.Linear(256, 256).cuda()\n",
    "        self._f3 = t.nn.Linear(256, 256).cuda()\n",
    "        self._f4 = t.nn.Linear(256, 256).cuda()\n",
    "        self._f5 = t.nn.Linear(256, 29).cuda()\n",
    "        self._f_out = t.nn.Linear(29, out_size).cuda()\n",
    "        \n",
    "        self._tags, self._locations = self.tagging(img_size, batch_size)\n",
    "        \n",
    "    # -----------------------------------------------------------\n",
    "    def tagging(self, img_size, batch_size):\n",
    "        \n",
    "        locations = []\n",
    "        tags = []\n",
    "        for x in range(img_size):\n",
    "            row = []\n",
    "            for y in range(img_size): row.append([x, y])\n",
    "            tags.extend(row)\n",
    "            locations.extend(row)\n",
    "        tags = np.array(tags)\n",
    "        X = t.from_numpy((2 * tags / (img_size-1)) - 1).float().cuda()\n",
    "        print(X.size())\n",
    "        size = X.size()\n",
    "        return X.expand(batch_size, size[0], size[1]), locations\n",
    "    \n",
    "    # -----------------------------------------------------------\n",
    "    def g(self, X):\n",
    "        \n",
    "        X = self._g1(X)\n",
    "        X = self._relu(X)\n",
    "        X = self._g2(X)\n",
    "        X = self._relu(X)\n",
    "        X = self._g3(X)\n",
    "        X = self._relu(X)\n",
    "        X = self._g4(X)\n",
    "        #X = self._relu(X)\n",
    "        #X = self._g5(X)\n",
    "        #X = self._relu(X)\n",
    "        #X = self._g6(X)\n",
    "        return self._relu(X)\n",
    "        \n",
    "    # -----------------------------------------------------------\n",
    "    def f(self, X):\n",
    "        \n",
    "        X = self._f1(X)\n",
    "        X = self._relu(X)\n",
    "        X = self._f2(X)\n",
    "        X = self._relu(X)\n",
    "        X = self._dropout(X)\n",
    "        X = self._f3(X)\n",
    "        X = self._relu(X)\n",
    "        X = self._f4(X)\n",
    "        X = self._relu(X)\n",
    "        X = self._f5(X)\n",
    "        X = self._relu(X)\n",
    "        X = self._f_out(X)\n",
    "        return t.nn.functional.log_softmax(X, dim=1)\n",
    "        #return X\n",
    "        \n",
    "    # -----------------------------------------------------------\n",
    "    def forward(self, imgs, questions, debug=False):\n",
    "        \n",
    "        # convolutional model;\n",
    "        if debug: print(\"CONV_IN\", imgs.size())\n",
    "        X = self._conv1(imgs)\n",
    "        X = self._relu(X)\n",
    "        X = self._batch_norm1(X)\n",
    "        X = self._conv2(X)\n",
    "        X = self._relu(X)\n",
    "        X = self._batch_norm2(X)\n",
    "        X = self._conv3(X)\n",
    "        X = self._relu(X)\n",
    "        X = self._batch_norm3(X)\n",
    "        X = self._conv4(X)\n",
    "        X = self._relu(X)\n",
    "        X = self._batch_norm4(X)\n",
    "        X = self._conv5(X)\n",
    "        X = self._relu(X)\n",
    "        X = self._batch_norm5(X)\n",
    "        if debug: print(\"CONV_OUT\", X.size())\n",
    "        \n",
    "        #tagging;\n",
    "        X_size = X.size()\n",
    "        tags, locations = self._tags, self._locations\n",
    "        if debug: print(\"TAGS\", tags.size())\n",
    "        #print(X_size)\n",
    "        X = X.view(64, 24, 5*5).permute(0, 2, 1)\n",
    "        X = t.cat([X, tags],2)\n",
    "        #X = t.cat([X, tags], dim=1)\n",
    "        if debug: print(\"TAGGED\", X.size())\n",
    "        \n",
    "        # slice and run g();\n",
    "        g_all = []\n",
    "        \n",
    "        for obj1 in range(5*5):\n",
    "            for obj2 in range(5*5):\n",
    "                if debug: print(\"\\rSLICES\", obj1, obj2, end=\"\")\n",
    "                g_in = t.cat([ X[:,obj1,:], X[:,obj2,:], questions ], dim=1)\n",
    "                g_all.append( self.g(g_in) )\n",
    "        \n",
    "        \"\"\"for obj1 in locations:\n",
    "            for obj2 in locations:\n",
    "                if debug: print(\"\\rSLICES\", obj1, obj2, end=\"\")\n",
    "                g_in = t.cat([ X[:,:,obj1[0],obj1[1]], X[:,:,obj2[0],obj2[1]], questions ], dim=1)\n",
    "                g_all.append( self.g(g_in) )\"\"\"\n",
    "                \n",
    "        print(\"\")\n",
    "        # sum g() outputs;\n",
    "        X = t.stack(g_all, dim=1)\n",
    "        if debug: print(\"PRE_SUM\", X.size())\n",
    "        X = t.mean(X, 1)\n",
    "        if debug: print(\"POST_SUM\", X.size())\n",
    "        \n",
    "        # run f()\n",
    "        X = self.f(X)\n",
    "        if debug: print(\"f()\", X.size())\n",
    "        \n",
    "        return X\n",
    "    \n",
    "    # -----------------------------------------------------------\n",
    "    def loss(self, outputs, targets):\n",
    "        \n",
    "        return self._loss(outputs, targets)\n",
    "        \n",
    "    # -----------------------------------------------------------\n",
    "    def optimizer(self):\n",
    "        \n",
    "        self._optimizer = t.optim.Adam(self.parameters(), lr=self._lr)\n",
    "        \n",
    "    # -----------------------------------------------------------\n",
    "    def prepTraining(self, lr=.001, decay_rate=.5, decay_steps=10000):\n",
    "        \n",
    "        self._lr = lr\n",
    "        self._decay_rate = decay_rate\n",
    "        self._decay_steps = decay_steps\n",
    "        self.optimizer()\n",
    "        self._loss = t.nn.NLLLoss()\n",
    "        #self._loss = t.nn.CrossEntropyLoss()\n",
    "        \n",
    "    # -----------------------------------------------------------\n",
    "    def exponentialDecay(self):\n",
    "        \n",
    "        lr = self._lr * pow(self._decay_rate, self._step / self._decay_steps)\n",
    "        for param_group in self._optimizer.param_groups:\n",
    "            param_group[\"lr\"] = lr\n",
    "        \n",
    "    # -----------------------------------------------------------\n",
    "    def train(self, imgs, questions, answers, decay=True):\n",
    "        \n",
    "        # training step;\n",
    "        outputs = self(imgs, questions)\n",
    "        loss = self.loss(outputs, answers)\n",
    "        self._optimizer.zero_grad()\n",
    "        loss.backward()\n",
    "        self._optimizer.step()\n",
    "        \n",
    "        # calculate accuracy;\n",
    "        pred = outputs.data.max(1)[1]\n",
    "        correct = pred.eq(answers.data).float().cpu().sum()\n",
    "        accuracy = correct / len(answers)\n",
    "        \n",
    "        # decay;\n",
    "        self._step += 1\n",
    "        if decay: self.exponentialDecay()\n",
    "        \n",
    "        return loss.item(), accuracy.item()\n",
    "\n",
    "    # -----------------------------------------------------------\n",
    "    def test(self, imgs, questions, answers):\n",
    "        \n",
    "        # calculate loss;\n",
    "        outputs = self(imgs, questions)\n",
    "        loss = self.loss(outputs, answers)\n",
    "        \n",
    "        # calculate accuracy;\n",
    "        pred = outputs.data.max(1)[1]\n",
    "        correct = pred.eq(answers.data).float().cpu().sum()\n",
    "        accuracy = correct / len(answers)\n",
    "\n",
    "        return loss.item(), accuracy.item()\n",
    "    \n",
    "    # -----------------------------------------------------------\n",
    "    def predict(self, imgs, questions, debug=False):\n",
    "        \n",
    "        return self(imgs, questions, debug=debug)\n",
    "        \n",
    "    # -----------------------------------------------------------\n",
    "    def initializeWeights(self):\n",
    "        \n",
    "        t.nn.init.xavier_uniform_(self._conv1.weight),\n",
    "        t.nn.init.xavier_uniform_(self._conv2.weight),\n",
    "        t.nn.init.xavier_uniform_(self._conv3.weight),\n",
    "        t.nn.init.xavier_uniform_(self._conv4.weight),\n",
    "        t.nn.init.xavier_uniform_(self._conv5.weight),\n",
    "        t.nn.init.xavier_uniform_(self._g1.weight),\n",
    "        t.nn.init.xavier_uniform_(self._g2.weight),\n",
    "        t.nn.init.xavier_uniform_(self._g3.weight),\n",
    "        t.nn.init.xavier_uniform_(self._g4.weight),\n",
    "        t.nn.init.xavier_uniform_(self._g5.weight),\n",
    "        t.nn.init.xavier_uniform_(self._g6.weight),\n",
    "        t.nn.init.xavier_uniform_(self._f1.weight),\n",
    "        t.nn.init.xavier_uniform_(self._f2.weight),\n",
    "        t.nn.init.xavier_uniform_(self._f3.weight),\n",
    "        t.nn.init.xavier_uniform_(self._f4.weight),\n",
    "        t.nn.init.xavier_uniform_(self._f5.weight),\n",
    "        t.nn.init.xavier_uniform_(self._f_out.weight)\n",
    "        "
   ]
  },
  {
   "cell_type": "code",
   "execution_count": 57,
   "metadata": {
    "_uuid": "d920be99ac23c61addae8d01168a99da5d998ee7"
   },
   "outputs": [],
   "source": [
    "batch_size = 64\n",
    "lr = 2.5e-4\n",
    "decay_steps = 3120\n",
    "decay_rate = 0.5\n",
    "epochs = 50"
   ]
  },
  {
   "cell_type": "code",
   "execution_count": 49,
   "metadata": {
    "_uuid": "a2fdbfc8efab5f4127ebfe3c7df438d6c1cad5bf"
   },
   "outputs": [
    {
     "name": "stdout",
     "output_type": "stream",
     "text": [
      "torch.Size([25, 2])\n"
     ]
    }
   ],
   "source": [
    "rn = RelationNetwork(out_size=11, batch_size=batch_size)\n",
    "rn = rn.cuda()\n",
    "rn.prepTraining(lr=lr, decay_rate=decay_rate, decay_steps=decay_steps)\n",
    "rn.initializeWeights()"
   ]
  },
  {
   "cell_type": "code",
   "execution_count": 50,
   "metadata": {
    "_uuid": "30a25b135cc32176d2c7731c2456aeda80182a5b",
    "scrolled": false
   },
   "outputs": [
    {
     "name": "stdout",
     "output_type": "stream",
     "text": [
      "CONV_IN torch.Size([64, 3, 128, 128])\n",
      "CONV_OUT torch.Size([64, 24, 5, 5])\n",
      "TAGS torch.Size([64, 25, 2])\n",
      "TAGGED torch.Size([64, 25, 26])\n",
      "SLICES 24 24\n",
      "PRE_SUM torch.Size([64, 625, 256])\n",
      "POST_SUM torch.Size([64, 256])\n",
      "f() torch.Size([64, 11])\n"
     ]
    }
   ],
   "source": [
    "y = rn.predict(\n",
    "    t.randn(batch_size,3,128,128).float().cuda(),\n",
    "    t.randn(batch_size,10).float().cuda(),\n",
    "    debug=True\n",
    ")"
   ]
  },
  {
   "cell_type": "code",
   "execution_count": 51,
   "metadata": {
    "_uuid": "92fec077aafface0e68e7d4fcd56c5d913601c16"
   },
   "outputs": [],
   "source": [
    "losses = []\n",
    "accuracies = []\n",
    "val_losses = []\n",
    "val_accuracies = []\n",
    "model_time = str(int(time()))"
   ]
  },
  {
   "cell_type": "code",
   "execution_count": 52,
   "metadata": {
    "_uuid": "d9da40760e4f9c784438cd3cded9a68db60a43f9"
   },
   "outputs": [],
   "source": [
    "stop = True\n",
    "try: thr.join()\n",
    "except: print(\"Thread not started...\")\n",
    "queue = []\n",
    "stop = False\n",
    "def queueBatch(train_index, images, lstm, out, batch_size=64, total=1):\n",
    "    global queue\n",
    "    amount = math.floor(lstm.shape[0] / batch_size)\n",
    "    #amount = 157\n",
    "    #amount = 10\n",
    "    batches = list(range(amount))\n",
    "    train_index, lstm, out = shuffle(train_index, lstm, out)\n",
    "    while True:\n",
    "        np.random.shuffle(batches)\n",
    "        c = 0\n",
    "        for it in batches:\n",
    "            if stop: return True\n",
    "            while len(queue) >= 10:\n",
    "                if stop: return True\n",
    "                sleep(1)\n",
    "            imgs = []\n",
    "            for jt in range((it)*batch_size, (it+1)*batch_size):\n",
    "                imgs.append(images[train_index[jt]] / 255)\n",
    "            imgs = np.array(imgs)\n",
    "            #print(np.moveaxis(imgs, 3, 1).shape)\n",
    "            data = [\n",
    "                t.from_numpy(np.moveaxis(imgs, 3, 1)).float().cuda(),\n",
    "                t.from_numpy(lstm[(it)*batch_size:(it+1)*batch_size]).float().cuda(),\n",
    "                t.from_numpy(out[(it)*batch_size:(it+1)*batch_size]).long().cuda()\n",
    "            ]\n",
    "            \n",
    "            c += 1\n",
    "            queue.append((data[0], data[1], data[2], c, amount))\n",
    "import threading\n",
    "from time import sleep\n",
    "thr = threading.Thread(target=queueBatch, args=(train_index, train_images, lstm_in, nn_out, batch_size, 0))\n",
    "thr.start()"
   ]
  },
  {
   "cell_type": "code",
   "execution_count": 53,
   "metadata": {
    "_uuid": "da4875246301d8266605109a7cebc81e0a1a88d5"
   },
   "outputs": [],
   "source": [
    "def getBatch(images, lstm, out, batch_size=64, total=1):\n",
    "    amount = math.floor(lstm.shape[0] / batch_size)\n",
    "    batches = list(range(amount))\n",
    "    np.random.shuffle(batches)\n",
    "    c = 0\n",
    "    for it in batches:\n",
    "        imgs = []\n",
    "        for jt in range((it)*batch_size, (it+1)*batch_size):\n",
    "            imgs.append(images[train_index[jt]] / 255)\n",
    "        imgs = np.array(imgs)\n",
    "        data = [\n",
    "            t.from_numpy(np.moveaxis(imgs, 3, 1)).float().cuda(),\n",
    "            t.from_numpy(lstm[(it)*batch_size:(it+1)*batch_size]).float().cuda(),\n",
    "            t.from_numpy(out[(it)*batch_size:(it+1)*batch_size]).long().cuda()\n",
    "        ]\n",
    "        c += 1\n",
    "        yield (data[0], data[1], data[2], c, amount)"
   ]
  },
  {
   "cell_type": "code",
   "execution_count": 55,
   "metadata": {
    "_uuid": "da6ef14fa0e606e9326916aaaca645723d2765aa"
   },
   "outputs": [
    {
     "name": "stdout",
     "output_type": "stream",
     "text": [
      "2\n"
     ]
    }
   ],
   "source": [
    "print(len(queue))"
   ]
  },
  {
   "cell_type": "code",
   "execution_count": 58,
   "metadata": {
    "_uuid": "1dcbe83a1814f7486d3a59f6e8049a691d672791",
    "scrolled": false
   },
   "outputs": [
    {
     "data": {
      "image/png": "[encoded data removed]",
      "text/plain": [
       "<Figure size 432x288 with 1 Axes>"
      ]
     },
     "metadata": {
      "needs_background": "light"
     },
     "output_type": "display_data"
    },
    {
     "name": "stdout",
     "output_type": "stream",
     "text": [
      "# EPOCH 15 / 50 [ 180 / 1093 ] Loss: 0.4605939984321594  || Accuracy: 0.609375\n",
      "\n",
      "# EPOCH 15 / 50 [ 181 / 1093 ] Loss: 0.4034155607223511  || Accuracy: 0.734375\n",
      "\n",
      "# EPOCH 15 / 50 [ 182 / 1093 ] Loss: 0.48894262313842773  || Accuracy: 0.65625\n",
      "\n",
      "# EPOCH 15 / 50 [ 183 / 1093 ] Loss: 0.4981045722961426  || Accuracy: 0.78125\n",
      "\n",
      "# EPOCH 15 / 50 [ 184 / 1093 ] Loss: 0.4142833948135376  || Accuracy: 0.765625\n",
      "\n",
      "# EPOCH 15 / 50 [ 185 / 1093 ] Loss: 0.5016788840293884  || Accuracy: 0.65625\n",
      "\n",
      "# EPOCH 15 / 50 [ 186 / 1093 ] Loss: 0.4826604723930359  || Accuracy: 0.6875\n",
      "\n",
      "# EPOCH 15 / 50 [ 187 / 1093 ] Loss: 0.45866331458091736  || Accuracy: 0.765625\n",
      "\n",
      "# EPOCH 15 / 50 [ 188 / 1093 ] Loss: 0.4202791154384613  || Accuracy: 0.6875\n",
      "\n",
      "# EPOCH 15 / 50 [ 189 / 1093 ] Loss: 0.5265445709228516  || Accuracy: 0.65625\n",
      "\n"
     ]
    },
    {
     "ename": "KeyboardInterrupt",
     "evalue": "",
     "output_type": "error",
     "traceback": [
      "\u001b[0;31m---------------------------------------------------------------------------\u001b[0m",
      "\u001b[0;31mKeyboardInterrupt\u001b[0m                         Traceback (most recent call last)",
      "\u001b[0;32m<ipython-input-58-65549b6a198e>\u001b[0m in \u001b[0;36m<module>\u001b[0;34m()\u001b[0m\n\u001b[1;32m     17\u001b[0m         \u001b[0mcurrents\u001b[0m \u001b[0;34m=\u001b[0m \u001b[0mcurrent\u001b[0m\u001b[0;34m\u001b[0m\u001b[0m\n\u001b[1;32m     18\u001b[0m \u001b[0;34m\u001b[0m\u001b[0m\n\u001b[0;32m---> 19\u001b[0;31m         \u001b[0mloss\u001b[0m\u001b[0;34m,\u001b[0m \u001b[0macc\u001b[0m \u001b[0;34m=\u001b[0m \u001b[0mrn\u001b[0m\u001b[0;34m.\u001b[0m\u001b[0mtrain\u001b[0m\u001b[0;34m(\u001b[0m\u001b[0mimages\u001b[0m\u001b[0;34m,\u001b[0m \u001b[0mlstms\u001b[0m\u001b[0;34m,\u001b[0m \u001b[0mtargets\u001b[0m\u001b[0;34m,\u001b[0m \u001b[0mdecay\u001b[0m\u001b[0;34m=\u001b[0m\u001b[0;32mFalse\u001b[0m\u001b[0;34m)\u001b[0m\u001b[0;34m\u001b[0m\u001b[0m\n\u001b[0m\u001b[1;32m     20\u001b[0m \u001b[0;34m\u001b[0m\u001b[0m\n\u001b[1;32m     21\u001b[0m         \u001b[0mepoch_losses\u001b[0m\u001b[0;34m.\u001b[0m\u001b[0mappend\u001b[0m\u001b[0;34m(\u001b[0m\u001b[0mloss\u001b[0m\u001b[0;34m)\u001b[0m\u001b[0;34m\u001b[0m\u001b[0m\n",
      "\u001b[0;32m<ipython-input-47-f1eee14ceb06>\u001b[0m in \u001b[0;36mtrain\u001b[0;34m(self, imgs, questions, answers, decay)\u001b[0m\n\u001b[1;32m    178\u001b[0m         \u001b[0mloss\u001b[0m \u001b[0;34m=\u001b[0m \u001b[0mself\u001b[0m\u001b[0;34m.\u001b[0m\u001b[0mloss\u001b[0m\u001b[0;34m(\u001b[0m\u001b[0moutputs\u001b[0m\u001b[0;34m,\u001b[0m \u001b[0manswers\u001b[0m\u001b[0;34m)\u001b[0m\u001b[0;34m\u001b[0m\u001b[0m\n\u001b[1;32m    179\u001b[0m         \u001b[0mself\u001b[0m\u001b[0;34m.\u001b[0m\u001b[0m_optimizer\u001b[0m\u001b[0;34m.\u001b[0m\u001b[0mzero_grad\u001b[0m\u001b[0;34m(\u001b[0m\u001b[0;34m)\u001b[0m\u001b[0;34m\u001b[0m\u001b[0m\n\u001b[0;32m--> 180\u001b[0;31m         \u001b[0mloss\u001b[0m\u001b[0;34m.\u001b[0m\u001b[0mbackward\u001b[0m\u001b[0;34m(\u001b[0m\u001b[0;34m)\u001b[0m\u001b[0;34m\u001b[0m\u001b[0m\n\u001b[0m\u001b[1;32m    181\u001b[0m         \u001b[0mself\u001b[0m\u001b[0;34m.\u001b[0m\u001b[0m_optimizer\u001b[0m\u001b[0;34m.\u001b[0m\u001b[0mstep\u001b[0m\u001b[0;34m(\u001b[0m\u001b[0;34m)\u001b[0m\u001b[0;34m\u001b[0m\u001b[0m\n\u001b[1;32m    182\u001b[0m \u001b[0;34m\u001b[0m\u001b[0m\n",
      "\u001b[0;32m~/anaconda3/envs/pytorch_p36/lib/python3.6/site-packages/torch/tensor.py\u001b[0m in \u001b[0;36mbackward\u001b[0;34m(self, gradient, retain_graph, create_graph)\u001b[0m\n\u001b[1;32m     91\u001b[0m                 \u001b[0mproducts\u001b[0m\u001b[0;34m.\u001b[0m \u001b[0mDefaults\u001b[0m \u001b[0mto\u001b[0m\u001b[0;31m \u001b[0m\u001b[0;31m`\u001b[0m\u001b[0;31m`\u001b[0m\u001b[0;32mFalse\u001b[0m\u001b[0;31m`\u001b[0m\u001b[0;31m`\u001b[0m\u001b[0;34m.\u001b[0m\u001b[0;34m\u001b[0m\u001b[0m\n\u001b[1;32m     92\u001b[0m         \"\"\"\n\u001b[0;32m---> 93\u001b[0;31m         \u001b[0mtorch\u001b[0m\u001b[0;34m.\u001b[0m\u001b[0mautograd\u001b[0m\u001b[0;34m.\u001b[0m\u001b[0mbackward\u001b[0m\u001b[0;34m(\u001b[0m\u001b[0mself\u001b[0m\u001b[0;34m,\u001b[0m \u001b[0mgradient\u001b[0m\u001b[0;34m,\u001b[0m \u001b[0mretain_graph\u001b[0m\u001b[0;34m,\u001b[0m \u001b[0mcreate_graph\u001b[0m\u001b[0;34m)\u001b[0m\u001b[0;34m\u001b[0m\u001b[0m\n\u001b[0m\u001b[1;32m     94\u001b[0m \u001b[0;34m\u001b[0m\u001b[0m\n\u001b[1;32m     95\u001b[0m     \u001b[0;32mdef\u001b[0m \u001b[0mregister_hook\u001b[0m\u001b[0;34m(\u001b[0m\u001b[0mself\u001b[0m\u001b[0;34m,\u001b[0m \u001b[0mhook\u001b[0m\u001b[0;34m)\u001b[0m\u001b[0;34m:\u001b[0m\u001b[0;34m\u001b[0m\u001b[0m\n",
      "\u001b[0;32m~/anaconda3/envs/pytorch_p36/lib/python3.6/site-packages/torch/autograd/__init__.py\u001b[0m in \u001b[0;36mbackward\u001b[0;34m(tensors, grad_tensors, retain_graph, create_graph, grad_variables)\u001b[0m\n\u001b[1;32m     88\u001b[0m     Variable._execution_engine.run_backward(\n\u001b[1;32m     89\u001b[0m         \u001b[0mtensors\u001b[0m\u001b[0;34m,\u001b[0m \u001b[0mgrad_tensors\u001b[0m\u001b[0;34m,\u001b[0m \u001b[0mretain_graph\u001b[0m\u001b[0;34m,\u001b[0m \u001b[0mcreate_graph\u001b[0m\u001b[0;34m,\u001b[0m\u001b[0;34m\u001b[0m\u001b[0m\n\u001b[0;32m---> 90\u001b[0;31m         allow_unreachable=True)  # allow_unreachable flag\n\u001b[0m\u001b[1;32m     91\u001b[0m \u001b[0;34m\u001b[0m\u001b[0m\n\u001b[1;32m     92\u001b[0m \u001b[0;34m\u001b[0m\u001b[0m\n",
      "\u001b[0;31mKeyboardInterrupt\u001b[0m: "
     ]
    }
   ],
   "source": [
    "# run epochs;\n",
    "for epoch in range(epochs):\n",
    "\n",
    "    print(\"# EPOCH\", str(epoch + 1), \"/\", str(epochs), \"====================================\")\n",
    "    epoch_losses = []\n",
    "    epoch_acc = []\n",
    "    totals = 1\n",
    "    currents = 0\n",
    "\n",
    "    # run mini-batches;\n",
    "    while currents < totals:\n",
    "\n",
    "        while len(queue) <= 0: sleep(2)\n",
    "\n",
    "        images, lstms, targets, current, total = queue.pop(0)\n",
    "        totals = total\n",
    "        currents = current\n",
    "        \n",
    "        loss, acc = rn.train(images, lstms, targets, decay=False)\n",
    "        \n",
    "        epoch_losses.append(loss)\n",
    "        epoch_acc.append(acc)\n",
    "        \n",
    "        if currents % 10 == 0:\n",
    "            clear_output()\n",
    "            plt.ylim((0, max(1, np.max(epoch_losses))))\n",
    "            plt.plot([it for it in range(len(epoch_losses))], epoch_losses)\n",
    "            plt.plot([it for it in range(len(epoch_acc))], epoch_acc)\n",
    "            plt.plot([0, len(epoch_losses)-1], [1, 1])\n",
    "            plt.plot([0, len(epoch_losses)-1], [.5, .5])\n",
    "            plt.show()\n",
    "            \n",
    "        print(\"# EPOCH \"+str(epoch+1)+\" / \"+str(epochs)+\" [\", current, \"/\", total,\"] Loss:\", loss, \" || Accuracy:\", acc)\n",
    "        \n",
    "    losses.append(np.mean(epoch_losses))\n",
    "    accuracies.append(np.mean(epoch_acc))\n",
    "    print(\"\\r[\", current, \"/\", total,\"] Complete - Loss:\", np.mean(epoch_losses), \"|| Accuracy:\", np.mean(epoch_acc), \"                               \")\n",
    "    \n",
    "    plt.ylim((0, max(1, np.max(losses))))\n",
    "    plt.plot([it for it in range(len(losses))], losses)\n",
    "    plt.plot([it for it in range(len(accuracies))], accuracies)\n",
    "    plt.plot([0, len(losses)-1], [1, 1])\n",
    "    plt.plot([0, len(losses)-1], [.5, .5])\n",
    "    plt.show()\n",
    "    \n",
    "    rval = {\"acc\":[], \"loss\":[]}\n",
    "    for batch in getBatch(val_train_images, val_lstm_in, val_nn_out, batch_size=batch_size, total=2):\n",
    "        images, lstms, targets, current, total = batch\n",
    "        loss, acc = rn.test(images, lstms, targets)\n",
    "        rval[\"acc\"].append(acc)\n",
    "        rval[\"loss\"].append(loss)\n",
    "        print(\"\\r[ validation ]\", current/total*100, \"%\", end=\"\")\n",
    "    print(\"\\r[ validation ]\",\"Loss:\",np.mean(rval[\"loss\"]),\"|| Accuracy:\",np.mean(rval[\"acc\"]))\n",
    "    val_losses.append(np.mean(rval[\"loss\"]))\n",
    "    val_accuracies.append(np.mean(rval[\"acc\"]))\n",
    "    \n",
    "    t.save(rn, \"./model.ckpt\")\n",
    "    "
   ]
  },
  {
   "cell_type": "code",
   "execution_count": 61,
   "metadata": {
    "_uuid": "10b8dea7bc1225bd713274b1b57cbbb30d39caff"
   },
   "outputs": [
    {
     "data": {
      "image/png": "[encoded data removed]",
      "text/plain": [
       "<Figure size 432x288 with 1 Axes>"
      ]
     },
     "metadata": {
      "needs_background": "light"
     },
     "output_type": "display_data"
    }
   ],
   "source": [
    "plt.ylim((0, max(1, np.max(losses))))\n",
    "plt.plot([it for it in range(len(losses))], losses)\n",
    "plt.plot([it for it in range(len(accuracies))], accuracies)\n",
    "plt.plot([it for it in range(len(val_losses))], val_losses)\n",
    "plt.plot([it for it in range(len(val_accuracies))], val_accuracies)\n",
    "#plt.plot([0, len(losses)-1], [1, 1])\n",
    "#plt.plot([0, len(losses)-1], [.5, .5])\n",
    "plt.show()"
   ]
  },
  {
   "cell_type": "code",
   "execution_count": null,
   "metadata": {},
   "outputs": [],
   "source": []
  }
 ],
 "metadata": {
  "kernelspec": {
   "display_name": "Python [default]",
   "language": "python",
   "name": "python3"
  },
  "language_info": {
   "codemirror_mode": {
    "name": "ipython",
    "version": 3
   },
   "file_extension": ".py",
   "mimetype": "text/x-python",
   "name": "python",
   "nbconvert_exporter": "python",
   "pygments_lexer": "ipython3",
   "version": "3.6.6"
  }
 },
 "nbformat": 4,
 "nbformat_minor": 1
}
